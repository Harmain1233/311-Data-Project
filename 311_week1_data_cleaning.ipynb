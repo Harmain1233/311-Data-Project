{
 "cells": [
  {
   "cell_type": "code",
   "execution_count": null,
   "id": "772dc558-f722-4271-94a6-bd765e054ab7",
   "metadata": {},
   "outputs": [],
   "source": [
    "import pandas as pd\n",
    "\n",
    "# Load data\n",
    "df = pd.read_csv(\"data/311_filtered_data.csv\")\n",
    "df.head()\n",
    "\n",
    "# Data Cleaning Process\n",
    "This notebook documents the data cleaning steps for NYC 311 data.\n",
    "- Loaded data from Socrata API\n",
    "- Converted date fields\n",
    "- Dropped missing values\n",
    "- Calculated Resolution Time\n",
    "- Rounded Resolution Time to 2 decimals\n"
   ]
  },
  {
   "cell_type": "code",
   "execution_count": 3,
   "id": "9c56e6ab-b6e1-4910-85a4-71017d4f693e",
   "metadata": {},
   "outputs": [],
   "source": [
    "df['created_date'] = pd.to_datetime(df['created_date'], errors='coerce')\n",
    "df['closed_date'] = pd.to_datetime(df['closed_date'], errors='coerce')\n"
   ]
  },
  {
   "cell_type": "code",
   "execution_count": 4,
   "id": "30de6abc-b6f5-4475-b6c2-55b1b7dd4c38",
   "metadata": {},
   "outputs": [],
   "source": [
    "df = df.dropna(subset=['created_date', 'closed_date', 'borough'])\n"
   ]
  },
  {
   "cell_type": "code",
   "execution_count": 5,
   "id": "793ffb79-c762-4491-9f2e-ab30a0adabd0",
   "metadata": {},
   "outputs": [],
   "source": [
    "df['Resolution Time (days)'] = (df['closed_date'] - df['created_date']).dt.total_seconds() / 86400\n"
   ]
  },
  {
   "cell_type": "code",
   "execution_count": 6,
   "id": "a0464659-d373-4838-b06a-6fd80144dee4",
   "metadata": {},
   "outputs": [],
   "source": [
    "df.to_csv(\"311_cleaned_ready_for_tableau.csv\", index=False)\n"
   ]
  },
  {
   "cell_type": "markdown",
   "id": "02a23f4d-d335-42bb-b5fa-2997f81624c0",
   "metadata": {},
   "source": [
    "# Drop latitude and longitude (reassign to df or use inplace)\n",
    "df = df.drop(columns=['latitude', 'longitude'])\n",
    "\n",
    "# Round Resolution Time (days) and update column\n",
    "df['Resolution Time (days)'] = df['Resolution Time (days)'].round(2)\n",
    "\n",
    "# Save the cleaned data (overwrite or new file)\n",
    "df.to_csv(\"311_cleaned_ready_for_tableau.csv\", index=False)\n"
   ]
  },
  {
   "cell_type": "code",
   "execution_count": 9,
   "id": "9811a0f7-41df-4a1b-9a8a-d6d54885d0ce",
   "metadata": {},
   "outputs": [
    {
     "name": "stdout",
     "output_type": "stream",
     "text": [
      "Index(['unique_key', 'created_date', 'closed_date', 'complaint_type',\n",
      "       'borough', 'Resolution Time (days)'],\n",
      "      dtype='object')\n"
     ]
    }
   ],
   "source": [
    "print(df.columns)\n"
   ]
  },
  {
   "cell_type": "code",
   "execution_count": 10,
   "id": "2fc8b430-f53c-48fb-9eaf-4f4b11c78953",
   "metadata": {},
   "outputs": [],
   "source": [
    "# Round Resolution Time (days)\n",
    "df['Resolution Time (days)'] = df['Resolution Time (days)'].round(2)\n",
    "\n",
    "# Save the updated file\n",
    "df.to_csv(\"311_cleaned_ready_for_tableau.csv\", index=False)\n"
   ]
  },
  {
   "cell_type": "code",
   "execution_count": 11,
   "id": "da671a5e-e07a-4ace-87df-9052ffb6c67e",
   "metadata": {},
   "outputs": [
    {
     "data": {
      "text/html": [
       "<div>\n",
       "<style scoped>\n",
       "    .dataframe tbody tr th:only-of-type {\n",
       "        vertical-align: middle;\n",
       "    }\n",
       "\n",
       "    .dataframe tbody tr th {\n",
       "        vertical-align: top;\n",
       "    }\n",
       "\n",
       "    .dataframe thead th {\n",
       "        text-align: right;\n",
       "    }\n",
       "</style>\n",
       "<table border=\"1\" class=\"dataframe\">\n",
       "  <thead>\n",
       "    <tr style=\"text-align: right;\">\n",
       "      <th></th>\n",
       "      <th>unique_key</th>\n",
       "      <th>created_date</th>\n",
       "      <th>closed_date</th>\n",
       "      <th>complaint_type</th>\n",
       "      <th>borough</th>\n",
       "      <th>Resolution Time (days)</th>\n",
       "    </tr>\n",
       "  </thead>\n",
       "  <tbody>\n",
       "    <tr>\n",
       "      <th>0</th>\n",
       "      <td>56416396</td>\n",
       "      <td>2023-01-01 00:00:00</td>\n",
       "      <td>2023-01-03 14:56:48</td>\n",
       "      <td>Food Poisoning</td>\n",
       "      <td>QUEENS</td>\n",
       "      <td>2.62</td>\n",
       "    </tr>\n",
       "    <tr>\n",
       "      <th>1</th>\n",
       "      <td>56417527</td>\n",
       "      <td>2023-01-01 00:00:09</td>\n",
       "      <td>2023-01-01 00:36:06</td>\n",
       "      <td>Illegal Fireworks</td>\n",
       "      <td>BROOKLYN</td>\n",
       "      <td>0.02</td>\n",
       "    </tr>\n",
       "    <tr>\n",
       "      <th>2</th>\n",
       "      <td>56416252</td>\n",
       "      <td>2023-01-01 00:00:42</td>\n",
       "      <td>2023-01-01 17:34:15</td>\n",
       "      <td>Noise - Residential</td>\n",
       "      <td>BRONX</td>\n",
       "      <td>0.73</td>\n",
       "    </tr>\n",
       "    <tr>\n",
       "      <th>3</th>\n",
       "      <td>56418795</td>\n",
       "      <td>2023-01-01 00:00:45</td>\n",
       "      <td>2023-01-01 01:24:10</td>\n",
       "      <td>Illegal Parking</td>\n",
       "      <td>MANHATTAN</td>\n",
       "      <td>0.06</td>\n",
       "    </tr>\n",
       "    <tr>\n",
       "      <th>4</th>\n",
       "      <td>56418136</td>\n",
       "      <td>2023-01-01 00:00:46</td>\n",
       "      <td>2023-01-01 01:01:43</td>\n",
       "      <td>Noise - Residential</td>\n",
       "      <td>BROOKLYN</td>\n",
       "      <td>0.04</td>\n",
       "    </tr>\n",
       "  </tbody>\n",
       "</table>\n",
       "</div>"
      ],
      "text/plain": [
       "   unique_key         created_date          closed_date       complaint_type  \\\n",
       "0    56416396  2023-01-01 00:00:00  2023-01-03 14:56:48       Food Poisoning   \n",
       "1    56417527  2023-01-01 00:00:09  2023-01-01 00:36:06    Illegal Fireworks   \n",
       "2    56416252  2023-01-01 00:00:42  2023-01-01 17:34:15  Noise - Residential   \n",
       "3    56418795  2023-01-01 00:00:45  2023-01-01 01:24:10      Illegal Parking   \n",
       "4    56418136  2023-01-01 00:00:46  2023-01-01 01:01:43  Noise - Residential   \n",
       "\n",
       "     borough  Resolution Time (days)  \n",
       "0     QUEENS                    2.62  \n",
       "1   BROOKLYN                    0.02  \n",
       "2      BRONX                    0.73  \n",
       "3  MANHATTAN                    0.06  \n",
       "4   BROOKLYN                    0.04  "
      ]
     },
     "execution_count": 11,
     "metadata": {},
     "output_type": "execute_result"
    }
   ],
   "source": [
    "cleaned_df = pd.read_csv(\"311_cleaned_ready_for_tableau.csv\")\n",
    "cleaned_df.head()\n"
   ]
  },
  {
   "cell_type": "code",
   "execution_count": null,
   "id": "182ec89d-7343-4591-a562-aa9df0e7b74b",
   "metadata": {},
   "outputs": [],
   "source": []
  }
 ],
 "metadata": {
  "kernelspec": {
   "display_name": "Python 3 (ipykernel)",
   "language": "python",
   "name": "python3"
  },
  "language_info": {
   "codemirror_mode": {
    "name": "ipython",
    "version": 3
   },
   "file_extension": ".py",
   "mimetype": "text/x-python",
   "name": "python",
   "nbconvert_exporter": "python",
   "pygments_lexer": "ipython3",
   "version": "3.9.6"
  }
 },
 "nbformat": 4,
 "nbformat_minor": 5
}
